{
 "cells": [
  {
   "cell_type": "markdown",
   "id": "6496b1a4-d47f-4519-a63e-a1204bcf15d3",
   "metadata": {},
   "source": [
    "# Data Science Tools and Ecosystem"
   ]
  },
  {
   "cell_type": "markdown",
   "id": "e52a4f7d-21da-4778-b5c5-71bbcb663c44",
   "metadata": {},
   "source": [
    "## Author\n",
    "Chris Doucet"
   ]
  },
  {
   "cell_type": "markdown",
   "id": "8951cede-d147-4bb8-9109-3fa29d339443",
   "metadata": {},
   "source": [
    "In this notebook, Data Science Tools and Ecosystem are summarized.\n",
    "\n",
    "__Objectives:__\n",
    "1. List popular languages for Data Science\n",
    "2. List popular libraries for Data Science\n",
    "3. Display popular Data Science tools in a table\n",
    "4. Evaluate arithmetic expressions"
   ]
  },
  {
   "cell_type": "markdown",
   "id": "95de858f-f447-42a2-958c-6a69f8d5871b",
   "metadata": {},
   "source": [
    "Some of the popular languages that Data Scientists use are:\n",
    "1. Python\n",
    "2. Scala\n",
    "3. Julia\n",
    "4. R\n",
    "5. Swift"
   ]
  },
  {
   "cell_type": "markdown",
   "id": "fb5cb6e2-cf08-421e-b358-bb54c681b6be",
   "metadata": {},
   "source": [
    "Some of the commonly used libraries used by Data Scientists include:\n",
    "1. NumPy\n",
    "2. Pandas\n",
    "3. Seaborn"
   ]
  },
  {
   "cell_type": "markdown",
   "id": "ab80409d-6eb4-4653-880c-960b11d7820d",
   "metadata": {
    "tags": []
   },
   "source": [
    "| Data Science Tools |\n",
    "|:------------------:|\n",
    "|  Jupyter Notebook  |\n",
    "|    Apache Spark    |\n",
    "|      RStudio       |"
   ]
  },
  {
   "cell_type": "markdown",
   "id": "5bed582b-fe85-4838-a87a-c1a36135293f",
   "metadata": {},
   "source": [
    "### Below are a few examples of evaluating arithmetic expressions in Python"
   ]
  },
  {
   "cell_type": "code",
   "execution_count": 4,
   "id": "46a2a04e-5f7f-4493-a460-8e7fd9489e22",
   "metadata": {
    "tags": []
   },
   "outputs": [
    {
     "data": {
      "text/plain": [
       "17"
      ]
     },
     "execution_count": 4,
     "metadata": {},
     "output_type": "execute_result"
    }
   ],
   "source": [
    "# This is a simple arithmetic expression to mutiply then add integers\n",
    "(3*4)+5"
   ]
  },
  {
   "cell_type": "code",
   "execution_count": 5,
   "id": "fb0e7b51-9c9a-4ddd-abb1-71af40b46dcf",
   "metadata": {
    "tags": []
   },
   "outputs": [
    {
     "data": {
      "text/plain": [
       "3.3333333333333335"
      ]
     },
     "execution_count": 5,
     "metadata": {},
     "output_type": "execute_result"
    }
   ],
   "source": [
    "# This will convert 200 minutes to hours by dividing by 60\n",
    "200/60"
   ]
  },
  {
   "cell_type": "markdown",
   "id": "1b17ac9c-bba6-451f-a671-2ccf358002ec",
   "metadata": {},
   "source": []
  }
 ],
 "metadata": {
  "kernelspec": {
   "display_name": "Python",
   "language": "python",
   "name": "conda-env-python-py"
  },
  "language_info": {
   "codemirror_mode": {
    "name": "ipython",
    "version": 3
   },
   "file_extension": ".py",
   "mimetype": "text/x-python",
   "name": "python",
   "nbconvert_exporter": "python",
   "pygments_lexer": "ipython3",
   "version": "3.7.12"
  }
 },
 "nbformat": 4,
 "nbformat_minor": 5
}
